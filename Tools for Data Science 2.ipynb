{
  "metadata": {
    "kernelspec": {
      "name": "python",
      "display_name": "Python (Pyodide)",
      "language": "python"
    },
    "language_info": {
      "codemirror_mode": {
        "name": "python",
        "version": 3
      },
      "file_extension": ".py",
      "mimetype": "text/x-python",
      "name": "python",
      "nbconvert_exporter": "python",
      "pygments_lexer": "ipython3",
      "version": "3.8"
    }
  },
  "nbformat_minor": 4,
  "nbformat": 4,
  "cells": [
    {
      "cell_type": "markdown",
      "source": "# Tools for Data Science and Ecosystem",
      "metadata": {}
    },
    {
      "cell_type": "markdown",
      "source": "In this notebook Tools for Data Science course exercises are presented and summarized.",
      "metadata": {}
    },
    {
      "cell_type": "markdown",
      "source": "List of data science languages that Data Scientist use:\n1. Python\n2. R\n3. Scala\n4. SQL\n5. Julia\n6. JavaScipt\n7. Pyspark\n8. Java",
      "metadata": {}
    },
    {
      "cell_type": "markdown",
      "source": "List of some data science libraries:\n1. Pandas\n2. Numpy\n3. Matplotlib\n4. Scikit\n5. Lgbm\n6. Seaborn",
      "metadata": {}
    },
    {
      "cell_type": "markdown",
      "source": "|Data Science tools|\n|------------------|\n|Anaconda Navigator|\n|R Studio|\n|Jupyter Notebooks|\n|Spyder|\n|Zeppelin|",
      "metadata": {}
    },
    {
      "cell_type": "markdown",
      "source": "### Here are some a few examples of evaluating arithmetic expressions",
      "metadata": {}
    },
    {
      "cell_type": "code",
      "source": "# Arithmetic operations\nformula = compile(\"5 * 6\", \"<string>\", \"eval\")\neval(formula)",
      "metadata": {
        "trusted": true
      },
      "outputs": [
        {
          "execution_count": 2,
          "output_type": "execute_result",
          "data": {
            "text/plain": "30"
          },
          "metadata": {}
        }
      ],
      "execution_count": 2
    },
    {
      "cell_type": "code",
      "source": "# Arithmetic operations\nformula = compile(\"5 / 6\", \"<string>\", \"eval\")\neval(formula)",
      "metadata": {
        "trusted": true
      },
      "outputs": [
        {
          "execution_count": 3,
          "output_type": "execute_result",
          "data": {
            "text/plain": "0.8333333333333334"
          },
          "metadata": {}
        }
      ],
      "execution_count": 3
    },
    {
      "cell_type": "code",
      "source": "# Example of adding and multiplying numbers\n(4*2)+(6*7)",
      "metadata": {
        "trusted": true
      },
      "outputs": [
        {
          "execution_count": 4,
          "output_type": "execute_result",
          "data": {
            "text/plain": "50"
          },
          "metadata": {}
        }
      ],
      "execution_count": 4
    },
    {
      "cell_type": "code",
      "source": "# Convert  time in minutes to hours\n# time in minutes:\ntime_min = 45\n\n# time in hours:\ntime_min/60",
      "metadata": {
        "trusted": true
      },
      "outputs": [
        {
          "execution_count": 5,
          "output_type": "execute_result",
          "data": {
            "text/plain": "0.75"
          },
          "metadata": {}
        }
      ],
      "execution_count": 5
    },
    {
      "cell_type": "markdown",
      "source": "**Objectives:**\n- Add comments to the code\n- Create markdown cells\n- Add ordered and unordered lists to markdown cells\n- Format content markdown cells with heading styles",
      "metadata": {}
    },
    {
      "cell_type": "markdown",
      "source": "## Author\nZoltan Gabor",
      "metadata": {}
    },
    {
      "cell_type": "code",
      "source": "",
      "metadata": {
        "trusted": true
      },
      "outputs": [],
      "execution_count": null
    }
  ]
}