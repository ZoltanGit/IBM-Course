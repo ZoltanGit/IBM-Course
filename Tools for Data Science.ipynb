{
 "cells": [
  {
   "cell_type": "markdown",
   "id": "b90fc72a-c6ac-48b6-a3e7-6e3de3b84343",
   "metadata": {},
   "source": [
    "# Peer-graded assignment - Tools for Data Science"
   ]
  },
  {
   "cell_type": "markdown",
   "id": "ec77fa14-770e-4826-a97a-a79c51f110dc",
   "metadata": {},
   "source": [
    "In this notebook Tools for Data Science course exercises are presented."
   ]
  },
  {
   "cell_type": "markdown",
   "id": "3f2e04c7-b9f3-4f6e-ad61-038a3a696f73",
   "metadata": {},
   "source": [
    "List of data science languages:\n",
    "- Python\n",
    "- R\n",
    "- Scala\n",
    "- SQL\n",
    "- Julia\n",
    "- JavaScipt\n",
    "- Pyspark\n",
    "- Java\n",
    "- Go\n",
    "- C++"
   ]
  },
  {
   "cell_type": "markdown",
   "id": "60f6cb8b-b3a7-4c63-9371-5559b7ea6568",
   "metadata": {},
   "source": [
    "List of some data science libraries:\n",
    "- Pandas\n",
    "- Numpy\n",
    "- Matplotlib\n",
    "- Scikit\n",
    "- Lgbm"
   ]
  },
  {
   "cell_type": "markdown",
   "id": "6a3cdca1-6748-436a-aba7-074801bb42d6",
   "metadata": {},
   "source": [
    "|Data Science tools|Usage|\n",
    "|------------------|-----------|\n",
    "|Anaconda Navigator|Managing tools and environments|\n",
    "|R Studio|Developing solutions in R|\n",
    "|Jupyter|Web-based computing notebook environment|\n",
    "|Jupyter lab|Interactive computing based on Jupyter|\n",
    "|GitHub|Manage Git repositories|\n",
    "|IBM Watson Studio|IDE to build, run and manage AI models|"
   ]
  },
  {
   "cell_type": "markdown",
   "id": "d23659b5-5199-498f-866f-bc56f2b736b3",
   "metadata": {},
   "source": [
    "$(1+x)^2$"
   ]
  },
  {
   "cell_type": "code",
   "execution_count": 3,
   "id": "915f269e-5bd5-4f71-9de3-30bdce725017",
   "metadata": {
    "tags": []
   },
   "outputs": [
    {
     "data": {
      "text/plain": [
       "50"
      ]
     },
     "execution_count": 3,
     "metadata": {},
     "output_type": "execute_result"
    }
   ],
   "source": [
    "(4*2)+(6*7)"
   ]
  },
  {
   "cell_type": "code",
   "execution_count": 4,
   "id": "03eb6a8b-fc61-47a3-8211-fe25e58717df",
   "metadata": {
    "tags": []
   },
   "outputs": [
    {
     "data": {
      "text/plain": [
       "0.75"
      ]
     },
     "execution_count": 4,
     "metadata": {},
     "output_type": "execute_result"
    }
   ],
   "source": [
    "# time in minutes:\n",
    "time_min = 45\n",
    "\n",
    "# time in hours:\n",
    "time_min/60"
   ]
  },
  {
   "cell_type": "markdown",
   "id": "00fac9f8-5c31-4c77-8e42-36d4d86e9cf0",
   "metadata": {},
   "source": [
    "List of Objectives:\n",
    "1. Create easy to read notebook\n",
    "2. Document context the analysis\n",
    "3. Document interpretations of charts, analysis results\n",
    "3. Make Notebook to share"
   ]
  },
  {
   "cell_type": "markdown",
   "id": "3b780e8d-999a-40fc-84cb-ab39bd1575c9",
   "metadata": {},
   "source": [
    "Name of the author: _Zoltan Gabor_"
   ]
  },
  {
   "cell_type": "code",
   "execution_count": null,
   "id": "049e1c2c-fb96-4276-a914-efc3af9ed292",
   "metadata": {},
   "outputs": [],
   "source": []
  }
 ],
 "metadata": {
  "kernelspec": {
   "display_name": "Python 3 (ipykernel)",
   "language": "python",
   "name": "python3"
  },
  "language_info": {
   "codemirror_mode": {
    "name": "ipython",
    "version": 3
   },
   "file_extension": ".py",
   "mimetype": "text/x-python",
   "name": "python",
   "nbconvert_exporter": "python",
   "pygments_lexer": "ipython3",
   "version": "3.11.5"
  }
 },
 "nbformat": 4,
 "nbformat_minor": 5
}
